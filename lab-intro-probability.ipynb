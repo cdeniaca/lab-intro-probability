{
 "cells": [
  {
   "cell_type": "markdown",
   "metadata": {},
   "source": [
    "# Lab | Intro to Probability"
   ]
  },
  {
   "cell_type": "markdown",
   "metadata": {},
   "source": [
    "**Objective**\n",
    "\n",
    "Welcome to this Intro to Probability lab, where we explore decision-making scenarios through the lens of probability and strategic analysis. In the business world, making informed decisions is crucial, especially when faced with uncertainties. This lab focuses on scenarios where probabilistic outcomes play a significant role in shaping strategies and outcomes. Students will engage in exercises that require assessing and choosing optimal paths based on data-driven insights. The goal is to enhance your skills by applying probability concepts to solve real-world problems."
   ]
  },
  {
   "cell_type": "markdown",
   "metadata": {},
   "source": [
    "**Challenge 1**"
   ]
  },
  {
   "cell_type": "markdown",
   "metadata": {},
   "source": [
    "#### Ironhack Airlines \n",
    "\n",
    "Often Airlines sell more tickets than they have seats available, this is called overbooking. Consider the following:\n",
    "- A plane has 450 seats. \n",
    "- Based on historical data we conclude that each individual passenger has a 3% chance of missing it's flight. \n",
    "\n",
    "If the Ironhack Airlines routinely sells 460 tickets, what is the chance that they have a seats for all passenger?"
   ]
  },
  {
   "cell_type": "code",
   "execution_count": 1,
   "metadata": {},
   "outputs": [
    {
     "name": "stdout",
     "output_type": "stream",
     "text": [
      "The probability that there are seats for all passengers: 0.8844772466215423\n"
     ]
    }
   ],
   "source": [
    "import scipy.stats as stats\n",
    "\n",
    "# Parameters\n",
    "n = 460  # number of tickets sold\n",
    "p = 0.97  # probability of a passenger showing up\n",
    "\n",
    "# Calculate the probability that <= 450 passengers show up\n",
    "probability = stats.binom.cdf(450, n, p)\n",
    "print(f\"The probability that there are seats for all passengers: {probability}\")\n"
   ]
  },
  {
   "cell_type": "markdown",
   "metadata": {},
   "source": [
    "**Challenge 2**"
   ]
  },
  {
   "cell_type": "markdown",
   "metadata": {},
   "source": [
    "#### Ironhack Call Center "
   ]
  },
  {
   "cell_type": "markdown",
   "metadata": {},
   "source": [
    "Suppose a customer service representative at a call center is handling customer complaints. Consider the following:\n",
    "- The probability of successfully resolving a customer complaint on the first attempt is 0.3. \n",
    "\n",
    "\n",
    "What is the probability that the representative needs to make at least three attempts before successfully resolving a customer complaint?"
   ]
  },
  {
   "cell_type": "code",
   "execution_count": 2,
   "metadata": {},
   "outputs": [
    {
     "name": "stdout",
     "output_type": "stream",
     "text": [
      "The probability that at least three attempts are needed: 0.14699999999999996\n"
     ]
    }
   ],
   "source": [
    "p_resolution = 0.3  # probability of success\n",
    "p_failure = 1 - p_resolution  # probability of failure\n",
    "\n",
    "# Probability of failure in the first two attempts and success in the third\n",
    "probability = p_failure ** 2 * p_resolution\n",
    "print(f\"The probability that at least three attempts are needed: {probability}\")\n"
   ]
  },
  {
   "cell_type": "markdown",
   "metadata": {},
   "source": [
    "**Challenge 3**"
   ]
  },
  {
   "cell_type": "markdown",
   "metadata": {},
   "source": [
    "#### Ironhack Website"
   ]
  },
  {
   "cell_type": "markdown",
   "metadata": {},
   "source": [
    "Consider a scenario related to Ironhack website traffic. Where:\n",
    "- our website takes on average 500 visits per hour.\n",
    "- the website's server is designed to handle up to 550 vists per hour.\n",
    "\n",
    "\n",
    "What is the probability of the website server being overwhelmed?"
   ]
  },
  {
   "cell_type": "code",
   "execution_count": 3,
   "metadata": {},
   "outputs": [
    {
     "name": "stdout",
     "output_type": "stream",
     "text": [
      "The probability of the server being overwhelmed: 0.01289822084039205\n"
     ]
    }
   ],
   "source": [
    "lambda_visits = 500  # average visits per hour\n",
    "max_visits = 550  # server limit\n",
    "\n",
    "# Calculate the probability that the number of visits exceeds 550\n",
    "probability_overwhelmed = 1 - stats.poisson.cdf(max_visits, lambda_visits)\n",
    "print(f\"The probability of the server being overwhelmed: {probability_overwhelmed}\")\n"
   ]
  },
  {
   "cell_type": "markdown",
   "metadata": {},
   "source": [
    "What is the probability of being overwhelmed at some point during a day? (consider 24hours)"
   ]
  },
  {
   "cell_type": "code",
   "execution_count": 4,
   "metadata": {},
   "outputs": [
    {
     "name": "stdout",
     "output_type": "stream",
     "text": [
      "The probability of being overwhelmed at some point during the day: 1.0\n"
     ]
    }
   ],
   "source": [
    "probability_daily_overwhelmed = 1 - stats.poisson.cdf(max_visits, lambda_visits * 24)\n",
    "print(f\"The probability of being overwhelmed at some point during the day: {probability_daily_overwhelmed}\")\n"
   ]
  },
  {
   "cell_type": "markdown",
   "metadata": {},
   "source": [
    "**Challenge 4**"
   ]
  },
  {
   "cell_type": "markdown",
   "metadata": {},
   "source": [
    "#### Ironhack Helpdesk"
   ]
  },
  {
   "cell_type": "markdown",
   "metadata": {},
   "source": [
    "Consider a scenario related to the time between arrivals of customers at a service desk.\n",
    "\n",
    "On average, a customers arrives every 10minutes.\n",
    "\n",
    "What is the probability that the next customer will arrive within the next 5 minutes?"
   ]
  },
  {
   "cell_type": "code",
   "execution_count": 5,
   "metadata": {},
   "outputs": [
    {
     "name": "stdout",
     "output_type": "stream",
     "text": [
      "The probability that the next customer arrives within 5 minutes: 0.6065306597126334\n"
     ]
    }
   ],
   "source": [
    "lambda_arrival = 1 / 10  # average time between arrivals (10 minutes)\n",
    "\n",
    "# Probability that the next customer arrives within 5 minutes\n",
    "probability_arrival_5min = 1 - stats.expon.cdf(5, scale=1/lambda_arrival)\n",
    "print(f\"The probability that the next customer arrives within 5 minutes: {probability_arrival_5min}\")\n"
   ]
  },
  {
   "cell_type": "markdown",
   "metadata": {},
   "source": [
    "If there is no customer for 15minutes, employees can that a 5minutes break.\n",
    "\n",
    "What is the probability an employee taking a break?"
   ]
  },
  {
   "cell_type": "code",
   "execution_count": 6,
   "metadata": {},
   "outputs": [
    {
     "name": "stdout",
     "output_type": "stream",
     "text": [
      "The probability of no customers for 15 minutes (employee taking a break): 0.7768698398515702\n"
     ]
    }
   ],
   "source": [
    "probability_no_customer_15min = stats.expon.cdf(15, scale=1/lambda_arrival)\n",
    "print(f\"The probability of no customers for 15 minutes (employee taking a break): {probability_no_customer_15min}\")\n"
   ]
  },
  {
   "cell_type": "markdown",
   "metadata": {},
   "source": [
    "**Challenge 5**"
   ]
  },
  {
   "cell_type": "markdown",
   "metadata": {},
   "source": [
    "The weights of a certain species of birds follow a normal distribution with a mean weight of 150 grams and a standard deviation of 10 grams. \n",
    "\n",
    "- If we randomly select a bird, what is the probability that its weight is between 140 and 160 grams?"
   ]
  },
  {
   "cell_type": "code",
   "execution_count": 7,
   "metadata": {},
   "outputs": [
    {
     "name": "stdout",
     "output_type": "stream",
     "text": [
      "The probability that a bird weighs between 140 and 160 grams: 0.6826894921370859\n"
     ]
    }
   ],
   "source": [
    "mu = 150  # mean\n",
    "sigma = 10  # standard deviation\n",
    "\n",
    "# Calculate the probability that the bird's weight is between 140 and 160 grams\n",
    "probability_bird_weight = stats.norm.cdf(160, mu, sigma) - stats.norm.cdf(140, mu, sigma)\n",
    "print(f\"The probability that a bird weighs between 140 and 160 grams: {probability_bird_weight}\")\n"
   ]
  },
  {
   "cell_type": "markdown",
   "metadata": {},
   "source": [
    "**Challenge 6**"
   ]
  },
  {
   "cell_type": "markdown",
   "metadata": {},
   "source": [
    "If the lifetime (in hours) of a certain electronic component follows an exponential distribution with a mean lifetime of 50 hours, what is the probability that the component fails within the first 30 hours?"
   ]
  },
  {
   "cell_type": "code",
   "execution_count": 8,
   "metadata": {},
   "outputs": [
    {
     "name": "stdout",
     "output_type": "stream",
     "text": [
      "The probability that the component fails within 30 hours: 0.5488116360940265\n"
     ]
    }
   ],
   "source": [
    "mean_lifetime = 50  # mean lifetime\n",
    "failure_time = 30  # time until failure\n",
    "\n",
    "# Calculate the probability that the component fails within 30 hours\n",
    "probability_failure_30hrs = 1 - stats.expon.cdf(failure_time, scale=mean_lifetime)\n",
    "print(f\"The probability that the component fails within 30 hours: {probability_failure_30hrs}\")\n"
   ]
  }
 ],
 "metadata": {
  "kernelspec": {
   "display_name": "Python 3",
   "language": "python",
   "name": "python3"
  },
  "language_info": {
   "codemirror_mode": {
    "name": "ipython",
    "version": 3
   },
   "file_extension": ".py",
   "mimetype": "text/x-python",
   "name": "python",
   "nbconvert_exporter": "python",
   "pygments_lexer": "ipython3",
   "version": "3.12.6"
  }
 },
 "nbformat": 4,
 "nbformat_minor": 2
}
